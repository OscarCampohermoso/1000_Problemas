{
 "cells": [
  {
   "attachments": {},
   "cell_type": "markdown",
   "metadata": {},
   "source": [
    "El primer problema que plantea el libro es el siguiente:\n",
    "\n",
    "1. $$\\frac{(152 \\frac{3}{4} - 148 \\frac{3}{8}) \\cdot0,3}{0,2}$$\n"
   ]
  },
  {
   "cell_type": "code",
   "execution_count": 13,
   "metadata": {},
   "outputs": [
    {
     "name": "stdout",
     "output_type": "stream",
     "text": [
      "6.5625"
     ]
    }
   ],
   "source": [
    "#Para resolver este problema primero operaremos la parte superior de la fracción\n",
    "top = ((((152*4)+3)/4) - (((148*8)+3)/8)) * 0.3\n",
    "bottom = 0.2\n",
    "result = top / bottom\n",
    "print(result)\n"
   ]
  }
 ],
 "metadata": {
  "kernelspec": {
   "display_name": "Julia 1.8.4",
   "language": "julia",
   "name": "julia-1.8"
  },
  "language_info": {
   "file_extension": ".jl",
   "mimetype": "application/julia",
   "name": "julia",
   "version": "1.8.4"
  },
  "orig_nbformat": 4
 },
 "nbformat": 4,
 "nbformat_minor": 2
}
