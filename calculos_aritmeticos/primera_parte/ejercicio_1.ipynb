{
 "cells": [
  {
   "attachments": {},
   "cell_type": "markdown",
   "metadata": {},
   "source": [
    "El primer problema que plantea el libro es el siguiente:\n",
    "\n",
    "1. $$\\left( \\frac{152\\frac{3}{4} - 148\\frac{3}{8}}{0,3} \\right) \\div \\frac{1}{0.2}$$\n"
   ]
  },
  {
   "cell_type": "code",
   "execution_count": 2,
   "metadata": {},
   "outputs": [],
   "source": [
    "# Su equivalencia en LaTeX es:\n",
    "# \\left( \\frac{152\\frac{3}{4} - 148\\frac{3}{8}}{0,3} \\right) \\div \\frac{1}{0.2}\n"
   ]
  }
 ],
 "metadata": {
  "kernelspec": {
   "display_name": "Julia 1.8.4",
   "language": "julia",
   "name": "julia-1.8"
  },
  "language_info": {
   "file_extension": ".jl",
   "mimetype": "application/julia",
   "name": "julia",
   "version": "1.8.4"
  },
  "orig_nbformat": 4
 },
 "nbformat": 4,
 "nbformat_minor": 2
}
