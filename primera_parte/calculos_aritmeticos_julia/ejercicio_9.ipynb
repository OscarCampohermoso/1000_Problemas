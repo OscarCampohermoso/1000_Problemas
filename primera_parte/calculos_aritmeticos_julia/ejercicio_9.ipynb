{
 "cells": [
  {
   "attachments": {},
   "cell_type": "markdown",
   "metadata": {},
   "source": [
    "El ejercicio es el siguiente:\n",
    "\n",
    "9. $$\\frac{(12\\frac{1}{6}-6\\frac{1}{27}-5\\frac{1}{4})\\cdot13,5+0,111}{0,02}$$"
   ]
  },
  {
   "cell_type": "code",
   "execution_count": null,
   "metadata": {},
   "outputs": [],
   "source": []
  }
 ],
 "metadata": {
  "language_info": {
   "name": "python"
  },
  "orig_nbformat": 4
 },
 "nbformat": 4,
 "nbformat_minor": 2
}
