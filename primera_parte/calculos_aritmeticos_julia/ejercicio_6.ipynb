{
 "cells": [
  {
   "cell_type": "markdown",
   "metadata": {},
   "source": [
    "El ejercicio es el siguiente:\n",
    "\n",
    "6. $$ \\frac{(140 \\frac{7}{30} - 138 \\frac{5}{12}): 18 \\frac{1}{6}}{0,002}  $$"
   ]
  },
  {
   "cell_type": "code",
   "execution_count": 1,
   "metadata": {
    "tags": []
   },
   "outputs": [
    {
     "data": {
      "text/plain": [
       "mixed_number (generic function with 1 method)"
      ]
     },
     "execution_count": 1,
     "metadata": {},
     "output_type": "execute_result"
    }
   ],
   "source": [
    "function mixed_number(n, d)\n",
    "    return n + d;\n",
    "end"
   ]
  },
  {
   "cell_type": "code",
   "execution_count": 3,
   "metadata": {
    "tags": []
   },
   "outputs": [
    {
     "name": "stdout",
     "output_type": "stream",
     "text": [
      "49.99999999999989\n"
     ]
    }
   ],
   "source": [
    "top = (mixed_number(140, 7/30) - mixed_number(138, 5/12))/mixed_number(18, 1/6)\n",
    "bottom = 0.002\n",
    "println(top/bottom)"
   ]
  },
  {
   "cell_type": "markdown",
   "metadata": {},
   "source": [
    "La solución propuesta por el libro es:\n",
    "\n",
    "$$ 50 $$"
   ]
  }
 ],
 "metadata": {
  "kernelspec": {
   "display_name": "Julia 1.8.4",
   "language": "julia",
   "name": "julia-1.8"
  },
  "language_info": {
   "file_extension": ".jl",
   "mimetype": "application/julia",
   "name": "julia",
   "version": "1.8.4"
  }
 },
 "nbformat": 4,
 "nbformat_minor": 4
}
