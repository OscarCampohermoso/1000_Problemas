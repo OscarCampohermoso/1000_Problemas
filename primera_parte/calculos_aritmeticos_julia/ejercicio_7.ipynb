{
 "cells": [
  {
   "cell_type": "markdown",
   "metadata": {},
   "source": [
    "El ejercicio es el siguiente:\n",
    "\n",
    "7. $$ \\frac{(95 \\frac{7}{30} - 93 \\frac{5}{18}) \\cdot 2 \\frac{1}{4} + 0,373}{0,2}$$"
   ]
  },
  {
   "cell_type": "code",
   "execution_count": 1,
   "metadata": {
    "tags": []
   },
   "outputs": [
    {
     "data": {
      "text/plain": [
       "mixed_number (generic function with 1 method)"
      ]
     },
     "execution_count": 1,
     "metadata": {},
     "output_type": "execute_result"
    }
   ],
   "source": [
    "function mixed_number(n, d)\n",
    "    return n + d;\n",
    "end"
   ]
  },
  {
   "cell_type": "code",
   "execution_count": 2,
   "metadata": {},
   "outputs": [
    {
     "name": "stdout",
     "output_type": "stream",
     "text": [
      "23.86500000000008\n"
     ]
    }
   ],
   "source": [
    "top = (mixed_number(95, 7/30) - mixed_number(93, 5/18)) * mixed_number(2, 1/4) + 0.373\n",
    "bottom = 0.2\n",
    "println(top/bottom)"
   ]
  },
  {
   "cell_type": "markdown",
   "metadata": {
    "tags": []
   },
   "source": [
    "La solución es la siguiente:\n",
    "\n",
    "$$ 23,865 $$"
   ]
  }
 ],
 "metadata": {
  "kernelspec": {
   "display_name": "Julia 1.8.4",
   "language": "julia",
   "name": "julia-1.8"
  },
  "language_info": {
   "file_extension": ".jl",
   "mimetype": "application/julia",
   "name": "julia",
   "version": "1.8.4"
  }
 },
 "nbformat": 4,
 "nbformat_minor": 4
}
