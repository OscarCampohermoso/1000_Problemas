{
 "cells": [
  {
   "attachments": {},
   "cell_type": "markdown",
   "metadata": {},
   "source": [
    "El segundo ejercicio planteado es muy similar al primer ejercicio para variar hare una función que pueda resolver numeros mixtos.\n",
    "Se plantea lo siguiente:\n",
    "\n",
    "2. $$\\frac{172\\frac{5}{6}-170\\frac{1}{3}+3\\frac{5}{12}}{0,8 \\cdot 0,25}$$\n"
   ]
  },
  {
   "cell_type": "code",
   "execution_count": 2,
   "metadata": {},
   "outputs": [
    {
     "data": {
      "text/plain": [
       "mixed_numbers (generic function with 1 method)"
      ]
     },
     "metadata": {},
     "output_type": "display_data"
    }
   ],
   "source": [
    "function mixed_numbers(first_number, second_number, third_number)\n",
    "    sol = ((first_number * third_number) + second_number)/third_number\n",
    "    return sol\n",
    "end"
   ]
  },
  {
   "cell_type": "code",
   "execution_count": 10,
   "metadata": {},
   "outputs": [
    {
     "name": "stdout",
     "output_type": "stream",
     "text": [
      "29.58333333333333\n"
     ]
    }
   ],
   "source": [
    "top = mixed_numbers(172, 5, 6) - mixed_numbers(170, 1, 3) + mixed_numbers(3, 5, 12)\n",
    "bottom = 0.8 * 0.25\n",
    "sol = top/bottom\n",
    "println(sol)"
   ]
  },
  {
   "attachments": {},
   "cell_type": "markdown",
   "metadata": {},
   "source": [
    "El resultado proporcionado es:\n",
    "\n",
    "$$29\\frac{7}{12}$$"
   ]
  },
  {
   "cell_type": "code",
   "execution_count": 9,
   "metadata": {},
   "outputs": [
    {
     "name": "stdout",
     "output_type": "stream",
     "text": [
      "29.583333333333332\n"
     ]
    }
   ],
   "source": [
    "println(mixed_numbers(29, 7, 12))"
   ]
  }
 ],
 "metadata": {
  "kernelspec": {
   "display_name": "Julia 1.8.4",
   "language": "julia",
   "name": "julia-1.8"
  },
  "language_info": {
   "file_extension": ".jl",
   "mimetype": "application/julia",
   "name": "julia",
   "version": "1.8.4"
  },
  "orig_nbformat": 4
 },
 "nbformat": 4,
 "nbformat_minor": 2
}
