{
 "cells": [
  {
   "attachments": {},
   "cell_type": "markdown",
   "metadata": {},
   "source": [
    "El ejercicio 4 es el siguiente:\n",
    "\n",
    "4. $$ (\\frac{0,012}{5} + \\frac{0,04104}{5,4}) \\cdot 4560 - 42 \\frac{1}{3}$$"
   ]
  },
  {
   "cell_type": "code",
   "execution_count": 2,
   "metadata": {},
   "outputs": [
    {
     "data": {
      "text/plain": [
       "mixed_number (generic function with 1 method)"
      ]
     },
     "metadata": {},
     "output_type": "display_data"
    }
   ],
   "source": [
    "# seria interesante realizar una funcion talque mixed_number(42, 1/3) para hallar los numeros mixtos\n",
    "function mixed_number(n, d)\n",
    "    return n + d;\n",
    "end"
   ]
  },
  {
   "cell_type": "code",
   "execution_count": 10,
   "metadata": {},
   "outputs": [
    {
     "name": "stdout",
     "output_type": "stream",
     "text": [
      "3.2666666666666586\n"
     ]
    }
   ],
   "source": [
    "fp = ((0.012/5) + (0.04104/5.4)) * 4560\n",
    "mn = mixed_number(42, 1/3)\n",
    "println(fp - mn)"
   ]
  },
  {
   "attachments": {},
   "cell_type": "markdown",
   "metadata": {},
   "source": [
    "La solución es la siguiente:\n",
    "$$ 3 \\frac{4}{15} $$"
   ]
  },
  {
   "cell_type": "code",
   "execution_count": 3,
   "metadata": {},
   "outputs": [
    {
     "name": "stdout",
     "output_type": "stream",
     "text": [
      "3.2666666666666666\n"
     ]
    }
   ],
   "source": [
    "println(mixed_number(3, 4/15))"
   ]
  }
 ],
 "metadata": {
  "kernelspec": {
   "display_name": "Julia 1.8.4",
   "language": "julia",
   "name": "julia-1.8"
  },
  "language_info": {
   "file_extension": ".jl",
   "mimetype": "application/julia",
   "name": "julia",
   "version": "1.8.4"
  },
  "orig_nbformat": 4,
  "vscode": {
   "interpreter": {
    "hash": "31f2aee4e71d21fbe5cf8b01ff0e069b9275f58929596ceb00d14d90e3e16cd6"
   }
  }
 },
 "nbformat": 4,
 "nbformat_minor": 2
}
