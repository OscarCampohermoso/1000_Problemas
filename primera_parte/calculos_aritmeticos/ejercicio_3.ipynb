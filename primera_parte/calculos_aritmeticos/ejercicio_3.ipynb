{
 "cells": [
  {
   "attachments": {},
   "cell_type": "markdown",
   "metadata": {},
   "source": [
    "El ejercicio 3 es el siguiente:\n",
    "\n",
    "3. $$ \\frac{215\\frac{9}{16}-208\\frac{3}{4} + \\frac{1}{2}}{0,0001 : 0,005} $$"
   ]
  },
  {
   "cell_type": "code",
   "execution_count": 5,
   "metadata": {},
   "outputs": [
    {
     "data": {
      "text/plain": [
       "mixed_numbers (generic function with 1 method)"
      ]
     },
     "metadata": {},
     "output_type": "display_data"
    }
   ],
   "source": [
    "# reutilizare mi function para mixed_numbers\n",
    "function mixed_numbers(first_number, second_number, third_number)\n",
    "    sol = ((first_number * third_number) + second_number)/third_number\n",
    "    return sol\n",
    "end"
   ]
  },
  {
   "cell_type": "code",
   "execution_count": 14,
   "metadata": {},
   "outputs": [
    {
     "name": "stdout",
     "output_type": "stream",
     "text": [
      "365.625\n"
     ]
    }
   ],
   "source": [
    "top = mixed_numbers(215, 9, 16) - mixed_numbers(208, 3, 4) + 0.5\n",
    "bottom = 0.0001 / 0.005\n",
    "println(top/bottom)"
   ]
  },
  {
   "attachments": {},
   "cell_type": "markdown",
   "metadata": {},
   "source": [
    "La solución es la siguiente:\n",
    "$$ 365\\frac{5}{8} $$\n"
   ]
  },
  {
   "cell_type": "code",
   "execution_count": 8,
   "metadata": {},
   "outputs": [
    {
     "name": "stdout",
     "output_type": "stream",
     "text": [
      "365.625\n"
     ]
    }
   ],
   "source": [
    "println(mixed_numbers(365, 5, 8))"
   ]
  }
 ],
 "metadata": {
  "kernelspec": {
   "display_name": "Julia 1.8.4",
   "language": "julia",
   "name": "julia-1.8"
  },
  "language_info": {
   "file_extension": ".jl",
   "mimetype": "application/julia",
   "name": "julia",
   "version": "1.8.4"
  },
  "orig_nbformat": 4
 },
 "nbformat": 4,
 "nbformat_minor": 2
}
